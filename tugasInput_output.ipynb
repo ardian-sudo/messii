{
 "cells": [
  {
   "cell_type": "code",
   "execution_count": 2,
   "id": "4ab91cee-629c-46ca-9b68-a405ebd0172d",
   "metadata": {},
   "outputs": [
    {
     "name": "stdin",
     "output_type": "stream",
     "text": [
      "Masukkan nama Anda:  ardian\n",
      "Masukkan usia Anda:  18\n",
      "Masukkan alamat Anda:  ciawitali\n",
      "Masukkan pekerjaan Anda:  mahasiswa\n"
     ]
    },
    {
     "name": "stdout",
     "output_type": "stream",
     "text": [
      "\n",
      "--- Biodata ---\n",
      "Nama: ardian\n",
      "Usia: 18\n",
      "Alamat: ciawitali\n",
      "Pekerjaan: mahasiswa\n"
     ]
    }
   ],
   "source": [
    "nama = input(\"Masukkan nama Anda: \")\n",
    "usia = input(\"Masukkan usia Anda: \")\n",
    "alamat = input(\"Masukkan alamat Anda: \")\n",
    "pekerjaan = input(\"Masukkan pekerjaan Anda: \")\n",
    "\n",
    "print(\"\\n--- Biodata ---\")\n",
    "print(\"Nama: {}\".format(nama))\n",
    "print(\"Usia: {}\".format(usia))\n",
    "print(\"Alamat: {}\".format(alamat))\n",
    "print(\"Pekerjaan: {}\".format(pekerjaan))"
   ]
  },
  {
   "cell_type": "code",
   "execution_count": 4,
   "id": "d0c94a1d-ec9c-4fcc-8e80-1dadd3bbf2eb",
   "metadata": {},
   "outputs": [
    {
     "name": "stdout",
     "output_type": "stream",
     "text": [
      "a put s nu\n",
      "NIVERSITAS NUS  PUT A SUKABUMI\n",
      "A SUKABUMI A PUT S NU UNIVERSITAS\n",
      "USAA\n",
      "ITA UT A SUKABUMI\n"
     ]
    }
   ],
   "source": [
    "kalimat = \"UNIVERSITAS NUSA PUTRA SUKABUMI\"\n",
    "\n",
    "#putra nusa\n",
    "print(kalimat[15:20].lower(), kalimat[10:14].lower())\n",
    "\n",
    "#NIVERSITAS NSA PTRA SKABMI\n",
    "print(kalimat[1:11], kalimat[12:15], kalimat[16:20], kalimat[21:])\n",
    "\n",
    "#SUKABUMI PUTRA NUSA UNIVERSITAS\n",
    "print(kalimat[21:], kalimat[15:20], kalimat[10:14], kalimat[0:11])\n",
    "\n",
    "#UNPS\n",
    "print(kalimat[0] + kalimat[10] + kalimat[15] + kalimat[21])\n",
    "\n",
    "#TAS SAPU BUMI\n",
    "print(kalimat[7:10], kalimat[18:20], kalimat[21:])"
   ]
  },
  {
   "cell_type": "code",
   "execution_count": null,
   "id": "9dedcb2f-a929-4f84-b376-87587e682241",
   "metadata": {},
   "outputs": [],
   "source": []
  }
 ],
 "metadata": {
  "kernelspec": {
   "display_name": "Python [conda env:base] *",
   "language": "python",
   "name": "conda-base-py"
  },
  "language_info": {
   "codemirror_mode": {
    "name": "ipython",
    "version": 3
   },
   "file_extension": ".py",
   "mimetype": "text/x-python",
   "name": "python",
   "nbconvert_exporter": "python",
   "pygments_lexer": "ipython3",
   "version": "3.12.7"
  }
 },
 "nbformat": 4,
 "nbformat_minor": 5
}
