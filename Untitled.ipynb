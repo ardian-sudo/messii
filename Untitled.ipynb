{
 "cells": [
  {
   "cell_type": "markdown",
   "id": "fa541bcd",
   "metadata": {},
   "source": [
    "<img src=\"https://img-c.udemycdn.com/course/750x422/6173779_c69c.jpg\" width=\"300\"></center><br>\n",
    "Tutorial Jupiter Notebook<br>\n",
    "Tempat menuliskan kode disebut sebagai <b>cell</b><br>\n",
    "<ol>\n",
    "    <li>code - y</li>\n",
    "    <li>Markdown - M</li>\n",
    "</ol>\n",
    "<hr>\n",
    "Cara menjalankan cell<br>\n",
    "<table>\n",
    "    <tr>\n",
    "        <td>Command</td>\n",
    "        <td>Keterangan</td>\n",
    "    </tr>\n",
    "    <tr>\n",
    "        <td>ctrl+enter</td>\n",
    "        <td>Running dan fokus di cell aktif</td>\n",
    "    </tr>\n",
    "    <tr>\n",
    "        <td>shift+enter</td>\n",
    "        <td>Running dan fokus di cell berikutnya</td>\n",
    "    </tr>    \n",
    "</table>    "
   ]
  },
  {
   "cell_type": "markdown",
   "id": "005a9d42",
   "metadata": {},
   "source": [
    "Menambahkan Cell ada 2 cara \n",
    "<ul>\n",
    "    <li>Tekan A -> Above</li>\n",
    "    <li>Tekan B -> Below</li>\n",
    "</ul>\n",
    "Cara membuat output di python adalah <br>\n",
    "'''\n",
    "    python\n",
    "    print (<teks yang akan di print)\n",
    "'''"
   ]
  },
  {
   "cell_type": "code",
   "execution_count": 12,
   "id": "4dd8ffd7",
   "metadata": {},
   "outputs": [
    {
     "name": "stdout",
     "output_type": "stream",
     "text": [
      "selamat belajar python\n",
      "selamat belajar variable\n"
     ]
    }
   ],
   "source": [
    "#Cetak tulisan selamat belajar python \n",
    "print (\"selamat belajar python\")\n",
    "data = \"selamat belajar variable\"\n",
    "print(data)"
   ]
  },
  {
   "cell_type": "code",
   "execution_count": 11,
   "id": "ea89002c",
   "metadata": {},
   "outputs": [
    {
     "name": "stdout",
     "output_type": "stream",
     "text": [
      "selamat belajar variable\n"
     ]
    },
    {
     "data": {
      "text/plain": [
       "15"
      ]
     },
     "execution_count": 11,
     "metadata": {},
     "output_type": "execute_result"
    }
   ],
   "source": [
    "print(data)\n",
    "data\n",
    "3 + 2 \n",
    "num1 = 6\n",
    "num2 = 9\n",
    "num1 + num2"
   ]
  }
 ],
 "metadata": {
  "kernelspec": {
   "display_name": "Python 3 (ipykernel)",
   "language": "python",
   "name": "python3"
  },
  "language_info": {
   "codemirror_mode": {
    "name": "ipython",
    "version": 3
   },
   "file_extension": ".py",
   "mimetype": "text/x-python",
   "name": "python",
   "nbconvert_exporter": "python",
   "pygments_lexer": "ipython3",
   "version": "3.9.12"
  }
 },
 "nbformat": 4,
 "nbformat_minor": 5
}
