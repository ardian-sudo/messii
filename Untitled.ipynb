{
 "cells": [
  {
   "cell_type": "code",
   "execution_count": 4,
   "id": "cefacbdd",
   "metadata": {},
   "outputs": [
    {
     "name": "stdout",
     "output_type": "stream",
     "text": [
      "Nama : Dedi\n",
      "Umur : 20\n",
      "Alamat: jl.Cibolang\n",
      "Nilai Pemrograman: 80.5\n",
      "Status Menikah: False\n"
     ]
    }
   ],
   "source": [
    "name = \"Dedi\"\n",
    "age = 20\n",
    "address,province =\"jl.Cibolang\",\"7413412\"\n",
    "scorePyhton = 80.5\n",
    "isMarried = False\n",
    "\n",
    "print(\"Nama :\",name)\n",
    "print(\"Umur :\",age)\n",
    "print(\"Alamat:\",address)\n",
    "print(\"Nilai Pemrograman:\",scorePyhton)\n",
    "print(\"Status Menikah:\",isMarried)\n"
   ]
  },
  {
   "cell_type": "code",
   "execution_count": 5,
   "id": "6b7b1ba9",
   "metadata": {},
   "outputs": [
    {
     "name": "stdout",
     "output_type": "stream",
     "text": [
      "Tipe data <name> <class 'str'>\n",
      "Tipe data <age> <class 'int'>\n",
      "Tipe data <address> <class 'str'>\n",
      "Tipe data <province> <class 'str'>\n",
      "Tipe data <scorePyhton <class 'float'>\n",
      "Tipe data <isMarried <class 'bool'>\n"
     ]
    }
   ],
   "source": [
    "print(\"Tipe data <name>\",type(name))\n",
    "print(\"Tipe data <age>\",type(age))\n",
    "print(\"Tipe data <address>\",type(address))\n",
    "print(\"Tipe data <province>\",type(province))\n",
    "print(\"Tipe data <scorePyhton\",type(scorePyhton))\n",
    "print(\"Tipe data <isMarried\",type(isMarried))"
   ]
  },
  {
   "cell_type": "code",
   "execution_count": 16,
   "id": "b8a2c008",
   "metadata": {},
   "outputs": [
    {
     "name": "stdout",
     "output_type": "stream",
     "text": [
      "7413412-7413412.0-True\n",
      "20-20.0-True\n",
      "80.5-80-True\n",
      "0-0.0-False\n"
     ]
    }
   ],
   "source": [
    "#Casting atau Konversi Tipe Data\n",
    "#Konversi dari String ke(int,float,bool)\n",
    "strToInt = int(province)\n",
    "strToFloat = float(province)\n",
    "strToBool = bool(province)\n",
    "print(strToInt,strToFloat,strToBool,sep=\"-\")\n",
    "#Konversi dari int ke (str,float,bool)\n",
    "intToStr = str(age)\n",
    "intToFloat = float(age)\n",
    "intToBool = bool(age)\n",
    "print(intToStr,intToFloat,intToBool,sep=\"-\")\n",
    "#Konversi dari float ke (str,int,bool)\n",
    "floatToStr = str(scorePyhton)\n",
    "floatToInt = int(scorePyhton)\n",
    "floatToBool = bool(scorePyhton)\n",
    "print(floatToStr,floatToInt,floatToBool,sep=\"-\")\n",
    "#Konversi dari bool ke (int,float,str)\n",
    "boolToInt = int(isMarried)\n",
    "boolToFloat = float(isMarried)\n",
    "boolToStr = str(isMarried)\n",
    "print(boolToInt,boolToFloat,boolToStr,sep=\"-\")"
   ]
  },
  {
   "cell_type": "code",
   "execution_count": 13,
   "id": "5eb58f86",
   "metadata": {},
   "outputs": [
    {
     "name": "stdout",
     "output_type": "stream",
     "text": [
      "M\n",
      "r\n"
     ]
    }
   ],
   "source": [
    "city = \"Makassar\"\n",
    "lenCity = len(city)\n",
    "print(city[0])\n",
    "print(city[lenCity-1])"
   ]
  },
  {
   "cell_type": "code",
   "execution_count": 14,
   "id": "0469bd14",
   "metadata": {},
   "outputs": [
    {
     "name": "stdout",
     "output_type": "stream",
     "text": [
      "Nilai Desimal : 200\n",
      "Nilai Desimal  dari 0xff: 255\n",
      "Nilai Desimal dari 0b1010 10\n",
      "Nilai Desimal dari 0o377 255\n",
      "========\n",
      "Nilai Biner dari : 200 0b11001000\n",
      "Nilai Octal dari : 200 0o310\n",
      "Nilai Hexa dari : 200 0xc8\n"
     ]
    }
   ],
   "source": [
    "desimal = 200\n",
    "hexa = 0xff\n",
    "biner = 0b1010\n",
    "octal = 0o377\n",
    "print(\"Nilai Desimal :\",desimal)\n",
    "print(\"Nilai Desimal  dari 0xff:\",hexa)\n",
    "print(\"Nilai Desimal dari 0b1010\",biner)\n",
    "print(\"Nilai Desimal dari 0o377\",octal)\n",
    "print(\"========\")\n",
    "print(\"Nilai Biner dari :\",desimal, bin(desimal))\n",
    "print(\"Nilai Octal dari :\",desimal, oct(desimal))\n",
    "print(\"Nilai Hexa dari :\",desimal, hex(desimal))\n"
   ]
  },
  {
   "cell_type": "code",
   "execution_count": 123,
   "id": "f2cde2c5",
   "metadata": {},
   "outputs": [
    {
     "ename": "SyntaxError",
     "evalue": "invalid syntax (1551816575.py, line 16)",
     "output_type": "error",
     "traceback": [
      "\u001b[1;36m  Input \u001b[1;32mIn [123]\u001b[1;36m\u001b[0m\n\u001b[1;33m    listStudent = {\u001b[0m\n\u001b[1;37m                ^\u001b[0m\n\u001b[1;31mSyntaxError\u001b[0m\u001b[1;31m:\u001b[0m invalid syntax\n"
     ]
    }
   ],
   "source": [
    "#Tipe data Collection\n",
    "#List\n",
    "cities = (\"Sukabumi\",\"Bandung\",\"Bogor\",\"Jakarta\")\n",
    "print(cities)\n",
    "print(cities[0])\n",
    "print(cities[len(cities)-1])\n",
    "print(cities)\n",
    "print(cities[len(cities)-1][0])\n",
    "\n",
    "#Tuple\n",
    "names = (\"Andi\",\"Budi\",\"Caca\")\n",
    "print(names)\n",
    "#names[0] = \"Rudi\" akan menyebabkan error, karena tuple adalah immutable\n",
    "studentData = {\n",
    "#list of dictionary\n",
    "listStudent = {\n",
    "    \"name\" : \"Dedi\",\n",
    "    \"address\" : {\n",
    "        \"street\" : \"Cisaat\",\n",
    "        \"number\" : 21,\n",
    "        \"province\" : \"west java\"\n",
    "    }\n",
    "    \"hobbies\" : [\"Basket\",\"Football\"],\n",
    "    \"age\" : 23,\n",
    "    \"isMarried\" : True\n",
    "    },   \n",
    "    {\n",
    "    \"name\" : \"Budi\",\n",
    "    \"address\" : {\n",
    "        \"street\" : \"Bogor\",\n",
    "        \"number\" : 25,\n",
    "        \"province\" : \"west java\"\n",
    "    },\n",
    "    \"age\" : 25,\n",
    "    \"isMarried\" : False\n",
    "    }\n",
    "}\n",
    "print(studentData)\n",
    "print(studentData[\"address\"][\"province\"]) #West Java  \n",
    "print(studentData[1])\n",
    "print(studentData[0][\"hobbies\"][1])\n",
    "print(studentData[0][\"age\"]) #23 - umur Dedi"
   ]
  },
  {
   "cell_type": "code",
   "execution_count": 128,
   "id": "3259cbd6",
   "metadata": {},
   "outputs": [
    {
     "name": "stdout",
     "output_type": "stream",
     "text": [
      "{'name': 'Dika', 'nilai': 80}\n",
      "{'Buah': 'Apel', 'Harga': 10000}\n",
      "{'Redbullrc': 'Max Verstappen', 'WDC': 4}\n",
      "{'Uniqlo': 'Crewneck', 'Harga': 230000}\n"
     ]
    }
   ],
   "source": [
    "#Casting dictionary\n",
    "\n",
    "list_tuple = [(\"name\",\"Dika\"),(\"nilai\",80)]\n",
    "dictStudent =  dict(list_tuple)\n",
    "print(dictStudent)\n",
    "\n",
    "list_list = [(\"Buah\",\"Apel\"),(\"Harga\",10000)]\n",
    "dictBuah=dict(list_list)\n",
    "print(dictBuah)\n",
    "\n",
    "tuple_tuple = [(\"Redbullrc\",\"Max Verstappen\"),(\"WDC\",4)]\n",
    "dictRedbullrc=dict(tuple_tuple)\n",
    "print(dictRedbullrc)\n",
    "\n",
    "tuple_list = [(\"Uniqlo\",\"Crewneck\"),(\"Harga\",230000)]\n",
    "dictUniqlo=dict(tuple_list)\n",
    "print(dictUniqlo)"
   ]
  }
 ],
 "metadata": {
  "kernelspec": {
   "display_name": "Python 3 (ipykernel)",
   "language": "python",
   "name": "python3"
  },
  "language_info": {
   "codemirror_mode": {
    "name": "ipython",
    "version": 3
   },
   "file_extension": ".py",
   "mimetype": "text/x-python",
   "name": "python",
   "nbconvert_exporter": "python",
   "pygments_lexer": "ipython3",
   "version": "3.9.12"
  }
 },
 "nbformat": 4,
 "nbformat_minor": 5
}
