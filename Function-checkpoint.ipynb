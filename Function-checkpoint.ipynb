{
 "cells": [
  {
   "cell_type": "code",
   "execution_count": 6,
   "id": "4ddd70d7-c1f4-4069-8bd5-83b6863328de",
   "metadata": {},
   "outputs": [
    {
     "name": "stdout",
     "output_type": "stream",
     "text": [
      "UKA ATNIC UMAK\n",
      "PYTHON HARI BELAJAR SEDANG INI\n",
      "Ak|_| C1nt4 K4m|_|\n",
      "4ku Cinta Kamu\n"
     ]
    }
   ],
   "source": [
    "def reverse_per_kata(kalimat):\n",
    "    kata_kata = kalimat.split()\n",
    "    hasil = [kata[::-1] for kata in kata_kata]\n",
    "    return ' '.join(hasil)\n",
    "def urutkan_kalimat(kalimat, urutan):\n",
    "    kata_kata = kalimat.split()\n",
    "    hasil = [kata_kata[i-1] for i in urutan]\n",
    "    return ' '.join(hasil)\n",
    "def ganti_vokal(kalimat, opsi):\n",
    "    hasil = ''\n",
    "    for huruf in kalimat:\n",
    "        if opsi == 1:\n",
    "            if huruf == 'a':\n",
    "                hasil += '4'\n",
    "            elif huruf == 'i':\n",
    "                hasil += '1'\n",
    "            elif huruf == 'u':\n",
    "                hasil += '|_|'\n",
    "            elif huruf == 'e':\n",
    "                hasil += '3'\n",
    "            elif huruf == 'o':\n",
    "                hasil += '0'\n",
    "            else:\n",
    "                hasil += huruf\n",
    "        elif opsi == 2:\n",
    "            if huruf == 'A':\n",
    "                hasil += '4'\n",
    "            elif huruf == 'I':\n",
    "                hasil += '1'\n",
    "            elif huruf == 'U':\n",
    "                hasil += '|_|'\n",
    "            elif huruf == 'E':\n",
    "                hasil += '3'\n",
    "            elif huruf == 'O':\n",
    "                hasil += '0'\n",
    "            else:\n",
    "                hasil += huruf\n",
    "        else:\n",
    "            hasil += huruf\n",
    "    return hasil\n",
    "\n",
    "\n",
    "print(reverse_per_kata(\"AKU CINTA KAMU\"))\n",
    "# Output: \"UKA ATNIC UMAK\"\n",
    "\n",
    "print(urutkan_kalimat(\"HARI INI SEDANG BELAJAR PYTHON\", [5, 1, 4, 3, 2]))\n",
    "# Output: \"PYTHON HARI BELAJAR SEDANG INI\"\n",
    "\n",
    "print(ganti_vokal(\"Aku Cinta Kamu\", 1))\n",
    "# Output: \"Ak|_| C1nt4 K4m|_|\"\n",
    "\n",
    "print(ganti_vokal(\"Aku Cinta Kamu\", 2))\n",
    "# Output: \"4ku Cinta Kamu\""
   ]
  },
  {
   "cell_type": "code",
   "execution_count": null,
   "id": "c71c2656-599a-4926-8beb-805135daa9fe",
   "metadata": {},
   "outputs": [],
   "source": []
  }
 ],
 "metadata": {
  "kernelspec": {
   "display_name": "Python [conda env:base] *",
   "language": "python",
   "name": "conda-base-py"
  },
  "language_info": {
   "codemirror_mode": {
    "name": "ipython",
    "version": 3
   },
   "file_extension": ".py",
   "mimetype": "text/x-python",
   "name": "python",
   "nbconvert_exporter": "python",
   "pygments_lexer": "ipython3",
   "version": "3.12.7"
  }
 },
 "nbformat": 4,
 "nbformat_minor": 5
}
