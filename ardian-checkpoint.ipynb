{
 "cells": [
  {
   "cell_type": "code",
   "execution_count": 64,
   "id": "1595b05d-0c3c-4cd3-8d8b-9bf59664aa34",
   "metadata": {
    "editable": true,
    "slideshow": {
     "slide_type": ""
    },
    "tags": []
   },
   "outputs": [
    {
     "name": "stdout",
     "output_type": "stream",
     "text": [
      "12 : 4 + 8 = 11.0\n"
     ]
    }
   ],
   "source": [
    "apelBudi = 12 \n",
    "temannya = 4 \n",
    "tambahanApel = 8\n",
    "\"budi ingin membagi 12 apelnya kepada 4 temannya, lalu budi mendapatkan tambahan 8 apel\"\n",
    "hasil = apelBudi / temannya + tambahanApel \n",
    "print(12, ':', 4, '+', 8, '=', hasil)"
   ]
  },
  {
   "cell_type": "code",
   "execution_count": 68,
   "id": "8279f299-7366-487b-8710-af2cb5524882",
   "metadata": {},
   "outputs": [
    {
     "name": "stdout",
     "output_type": "stream",
     "text": [
      "160 == 165 = False\n"
     ]
    }
   ],
   "source": [
    "tinggiSiti = 160\n",
    "tinggiAndi = 165\n",
    "\"apakah tinggi siti setara dengan tinggi andi\"\n",
    "perbandingan = (tinggiSiti == tinggiAndi)\n",
    "print (160, '==', 165, '=', perbandingan)"
   ]
  },
  {
   "cell_type": "code",
   "execution_count": 83,
   "id": "5ffad845-7b68-4df5-a7ff-411125d749a0",
   "metadata": {},
   "outputs": [
    {
     "name": "stdout",
     "output_type": "stream",
     "text": [
      "('boleh main', True)\n"
     ]
    }
   ],
   "source": [
    "tugasSelesai = ('boleh main', True)\n",
    "tugasBelumSelesai = ('tidak boleh main',False) \n",
    "Cerah =('boleh main',True)\n",
    "tidakCerah =('tidak boleh main',False)  \n",
    "hasil =(tugasSelesai or tugasBelumSelesai or Cerah or tidakCerah)\n",
    "print (hasil)"
   ]
  },
  {
   "cell_type": "code",
   "execution_count": 88,
   "id": "2c8b6f9d-67af-4861-bdda-c98877d71574",
   "metadata": {},
   "outputs": [
    {
     "name": "stdout",
     "output_type": "stream",
     "text": [
      "Hasil AND: 2 (0b10)\n",
      "Hasil OR: 7 (0b111)\n",
      "Hasil XOR: 5 (0b101)\n"
     ]
    }
   ],
   "source": [
    "# Angka yang diberikan\n",
    "a = 6  # 0110 dalam biner\n",
    "b = 3  # 0011 dalam biner\n",
    "\n",
    "# Operasi Bitwise\n",
    "and_hasil = a & b  # AND\n",
    "or_hasil = a | b   # OR\n",
    "xor_hasil = a ^ b  # XOR\n",
    "\n",
    "# Menampilkan hasil\n",
    "print(f\"Hasil AND: {and_hasil} ({bin(and_hasil)})\")\n",
    "print(f\"Hasil OR: {or_hasil} ({bin(or_hasil)})\")\n",
    "print(f\"Hasil XOR: {xor_hasil} ({bin(xor_hasil)})\")\n"
   ]
  },
  {
   "cell_type": "code",
   "execution_count": 90,
   "id": "ebf92713-b0ef-4885-bbfa-6fd2cf007795",
   "metadata": {},
   "outputs": [
    {
     "name": "stdout",
     "output_type": "stream",
     "text": [
      "Sisa saldo pulsa: Rp40000\n"
     ]
    }
   ],
   "source": [
    "# Saldo awal siswa\n",
    "saldo = 50000  # Rp50.000\n",
    "\n",
    "# Pengisian ulang\n",
    "saldo += 20000  # Menambah saldo dengan Rp20.000\n",
    "\n",
    "# Pembelian paket internet\n",
    "saldo -= 30000  # Mengurangi saldo dengan Rp30.000\n",
    "\n",
    "# Menampilkan sisa saldo\n",
    "print(f\"Sisa saldo pulsa: Rp{saldo}\")\n"
   ]
  },
  {
   "cell_type": "code",
   "execution_count": 95,
   "id": "a89b4194-197f-497b-82b1-c934038507e5",
   "metadata": {},
   "outputs": [
    {
     "name": "stdout",
     "output_type": "stream",
     "text": [
      "False\n",
      "True\n"
     ]
    }
   ],
   "source": [
    "# Daftar peserta lomba coding\n",
    "peserta = [\"Andi\", \"Budi\", \"Citra\", \"Dewi\"]\n",
    "\n",
    "# Mengecek apakah \"Eka\" ada dalam daftar peserta\n",
    "print(\"Eka\" in peserta)  # Output: False\n",
    "\n",
    "# Kalimat yang diberikan\n",
    "kalimat = \"Saya suka belajar Python\"\n",
    "\n",
    "# Mengecek apakah kata \"Python\" ada dalam kalimat\n",
    "print(\"Python\" in kalimat)  # Output: True\n"
   ]
  },
  {
   "cell_type": "code",
   "execution_count": 97,
   "id": "861156ce-64fe-4038-89e7-d15ecde6956e",
   "metadata": {},
   "outputs": [
    {
     "name": "stdout",
     "output_type": "stream",
     "text": [
      "True\n",
      "False\n",
      "True\n"
     ]
    }
   ],
   "source": [
    "# Membuat dua variabel dengan nilai yang sama\n",
    "x = 10\n",
    "y = 10\n",
    "\n",
    "# Mengecek apakah x dan y mengacu ke objek yang sama di memori\n",
    "print(x is y)  # Output: True\n",
    "\n",
    "# Membuat dua list dengan isi yang sama\n",
    "list1 = [1, 2, 3]\n",
    "list2 = [1, 2, 3]\n",
    "\n",
    "# Mengecek apakah list1 dan list2 mengacu ke objek yang sama di memori\n",
    "print(list1 is list2)  # Output: False\n",
    "\n",
    "# Mengecek apakah list1 dan list2 memiliki nilai yang sama\n",
    "print(list1 == list2)  # Output: True\n"
   ]
  },
  {
   "cell_type": "code",
   "execution_count": 99,
   "id": "b05aa8f3-9442-4ff9-8435-eb6eec15c941",
   "metadata": {},
   "outputs": [
    {
     "name": "stdout",
     "output_type": "stream",
     "text": [
      "Lebih dari 100\n",
      "Tidak Lulus\n"
     ]
    }
   ],
   "source": [
    "# Mengecek apakah angka lebih besar dari 100\n",
    "angka = 120\n",
    "hasil = \"Lebih dari 100\" if angka > 100 else \"100 atau kurang\"\n",
    "print(hasil)  # Output: Lebih dari 100\n",
    "\n",
    "# Mengecek apakah nilai ujian lebih dari 70\n",
    "nilai = 65\n",
    "status = \"Lulus\" if nilai > 70 else \"Tidak Lulus\"\n",
    "print(status)  # Output: Tidak Lulus\n"
   ]
  },
  {
   "cell_type": "code",
   "execution_count": null,
   "id": "910597f3-f512-40df-b416-cce37c4a9997",
   "metadata": {},
   "outputs": [],
   "source": []
  }
 ],
 "metadata": {
  "kernelspec": {
   "display_name": "Python [conda env:base] *",
   "language": "python",
   "name": "conda-base-py"
  },
  "language_info": {
   "codemirror_mode": {
    "name": "ipython",
    "version": 3
   },
   "file_extension": ".py",
   "mimetype": "text/x-python",
   "name": "python",
   "nbconvert_exporter": "python",
   "pygments_lexer": "ipython3",
   "version": "3.12.7"
  }
 },
 "nbformat": 4,
 "nbformat_minor": 5
}
